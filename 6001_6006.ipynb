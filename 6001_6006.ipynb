{
  "nbformat": 4,
  "nbformat_minor": 0,
  "metadata": {
    "colab": {
      "name": "Untitled0.ipynb",
      "provenance": [],
      "authorship_tag": "ABX9TyNRfd5XZ3EIeTV3MXCv7L2o",
      "include_colab_link": true
    },
    "kernelspec": {
      "name": "python3",
      "display_name": "Python 3"
    },
    "language_info": {
      "name": "python"
    }
  },
  "cells": [
    {
      "cell_type": "markdown",
      "metadata": {
        "id": "view-in-github",
        "colab_type": "text"
      },
      "source": [
        "<a href=\"https://colab.research.google.com/github/B-Kite/codeup-100/blob/main/6001_6006.ipynb\" target=\"_parent\"><img src=\"https://colab.research.google.com/assets/colab-badge.svg\" alt=\"Open In Colab\"/></a>"
      ]
    },
    {
      "cell_type": "code",
      "metadata": {
        "colab": {
          "base_uri": "https://localhost:8080/"
        },
        "id": "LTrjw8vlkOwy",
        "outputId": "2c0790a6-349f-4992-a82d-bf6d08d871fc"
      },
      "source": [
        "#6001\n",
        "print(\"Hello\")\n",
        "\n",
        "#6002\n",
        "print(\"Hello World\")\n",
        "print(\"Hello\",\"World\")\n",
        "\n",
        "#6003\n",
        "print(\"Hello\")\n",
        "print(\"World\")\n",
        "print(\"Hello\\nWorld\")\n",
        "\n",
        "#6004\n",
        "print(\"'Hello'\")\n",
        "\n",
        "#6005\n",
        "print('\"Hello World\"')\n",
        "\n",
        "#6006\n",
        "print('\"!@#$%^&*()\\'')\n",
        "\n"
      ],
      "execution_count": null,
      "outputs": [
        {
          "output_type": "stream",
          "text": [
            "Hello\n",
            "Hello World\n",
            "Hello World\n",
            "Hello\n",
            "World\n",
            "Hello\n",
            "World\n",
            "'Hello'\n",
            "\"Hello World\"\n",
            "\"!@#$%^&*()'\n"
          ],
          "name": "stdout"
        }
      ]
    }
  ]
}